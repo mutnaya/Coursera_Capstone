{
    "metadata": {
        "language_info": {
            "codemirror_mode": {
                "version": 3, 
                "name": "ipython"
            }, 
            "nbconvert_exporter": "python", 
            "file_extension": ".py", 
            "version": "3.5.5", 
            "mimetype": "text/x-python", 
            "pygments_lexer": "ipython3", 
            "name": "python"
        }, 
        "kernelspec": {
            "display_name": "Python 3.5", 
            "language": "python", 
            "name": "python3"
        }
    }, 
    "nbformat": 4, 
    "cells": [
        {
            "metadata": {
                "collapsed": true
            }, 
            "cell_type": "markdown", 
            "source": "# Applied Data Science Capstone Project\n\n        In this project we will be implementing segmenting and clustering neighbourhoods of Toronto. The data is being taken from Foursquare."
        }, 
        {
            "metadata": {}, 
            "outputs": [], 
            "cell_type": "code", 
            "execution_count": 1, 
            "source": "import pandas as pd\nimport numpy as np"
        }, 
        {
            "metadata": {}, 
            "outputs": [], 
            "cell_type": "code", 
            "execution_count": null, 
            "source": "print()"
        }
    ], 
    "nbformat_minor": 1
}