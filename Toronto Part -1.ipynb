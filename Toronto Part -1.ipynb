{
    "cells": [
        {
            "cell_type": "markdown", 
            "source": "# Import Libraries", 
            "metadata": {}
        }, 
        {
            "cell_type": "code", 
            "execution_count": 3, 
            "source": "import requests\nimport numpy as np\nimport pandas as pd\nimport json\n\nfrom geopy.geocoders import Nominatim\n\nfrom pandas.io.json import json_normalize\n\nimport matplotlib.cm as cm\nimport matplotlib.colors as colors\n\nfrom sklearn.cluster import KMeans\n", 
            "metadata": {}, 
            "outputs": []
        }, 
        {
            "cell_type": "markdown", 
            "source": "# Scrap data From Wikipedia Page\n\nhttps://en.wikipedia.org/wiki/List_of_postal_codes_of_Canada:_M", 
            "metadata": {}
        }, 
        {
            "cell_type": "code", 
            "execution_count": 4, 
            "source": "from bs4 import BeautifulSoup", 
            "metadata": {}, 
            "outputs": []
        }, 
        {
            "cell_type": "code", 
            "execution_count": 5, 
            "source": "page = requests.get('https://en.wikipedia.org/wiki/List_of_postal_codes_of_Canada:_M').text\nsoup = BeautifulSoup(page, 'lxml')", 
            "metadata": {}, 
            "outputs": []
        }, 
        {
            "cell_type": "code", 
            "execution_count": 18, 
            "source": "dict_toronto = {'PostalCode':[],\n                'Borough':[],\n               'Neighborhood':[]}\n\ntbody = soup.find('tbody')\nfor tr in tbody.find_all('tr')[1:]:\n    td = tr.find_all('td')\n    pocode = td[0].text\n    if td[2].a:\n        neigh = td[2].a.text\n        if td[1].a:\n            boro = td[1].a.text\n        else:\n            boro=td[1].text\n    else:\n        neigh = (' ').join(td[2].text.split())\n        if td[1].a:\n            boro = td[1].a.text\n        else:\n            boro=td[1].text\n    \n    if neigh == 'Not assigned':\n        neigh = boro\n    \n    if len(dict_toronto['PostalCode'])==0:\n        dict_toronto['PostalCode'].append(pocode)\n        dict_toronto['Neighborhood'].append(neigh)\n        dict_toronto['Borough'].append(boro)\n    else:\n        if dict_toronto['PostalCode'][-1] == pocode:\n            dict_toronto['Neighborhood'][-1] = dict_toronto['Neighborhood'][-1]+', ' + neigh\n        else:\n            dict_toronto['PostalCode'].append(pocode)\n            dict_toronto['Neighborhood'].append(neigh)\n            dict_toronto['Borough'].append(boro)\n\n        ", 
            "metadata": {}, 
            "outputs": []
        }, 
        {
            "cell_type": "code", 
            "execution_count": 20, 
            "source": "toronto_df = pd.DataFrame.from_dict(dict_toronto)", 
            "metadata": {}, 
            "outputs": []
        }, 
        {
            "cell_type": "code", 
            "execution_count": 23, 
            "source": "toronto_df.replace('Not assigned', np.nan, inplace=True)\ntoronto_df.dropna(inplace=True)\ntoronto_df.reset_index(drop=True, inplace=True)\ntoronto_df", 
            "metadata": {}, 
            "outputs": [
                {
                    "execution_count": 23, 
                    "metadata": {}, 
                    "data": {
                        "text/html": "<div>\n<style scoped>\n    .dataframe tbody tr th:only-of-type {\n        vertical-align: middle;\n    }\n\n    .dataframe tbody tr th {\n        vertical-align: top;\n    }\n\n    .dataframe thead th {\n        text-align: right;\n    }\n</style>\n<table border=\"1\" class=\"dataframe\">\n  <thead>\n    <tr style=\"text-align: right;\">\n      <th></th>\n      <th>Borough</th>\n      <th>Neighborhood</th>\n      <th>PostalCode</th>\n    </tr>\n  </thead>\n  <tbody>\n    <tr>\n      <th>0</th>\n      <td>North York</td>\n      <td>Parkwoods</td>\n      <td>M3A</td>\n    </tr>\n    <tr>\n      <th>1</th>\n      <td>North York</td>\n      <td>Victoria Village</td>\n      <td>M4A</td>\n    </tr>\n    <tr>\n      <th>2</th>\n      <td>Downtown Toronto</td>\n      <td>Harbourfront, Regent Park</td>\n      <td>M5A</td>\n    </tr>\n    <tr>\n      <th>3</th>\n      <td>North York</td>\n      <td>Lawrence Heights, Lawrence Manor</td>\n      <td>M6A</td>\n    </tr>\n    <tr>\n      <th>4</th>\n      <td>Queen's Park</td>\n      <td>Queen's Park</td>\n      <td>M7A</td>\n    </tr>\n    <tr>\n      <th>5</th>\n      <td>Etobicoke</td>\n      <td>Islington Avenue</td>\n      <td>M9A</td>\n    </tr>\n    <tr>\n      <th>6</th>\n      <td>Scarborough</td>\n      <td>Rouge, Malvern</td>\n      <td>M1B</td>\n    </tr>\n    <tr>\n      <th>7</th>\n      <td>North York</td>\n      <td>Don Mills North</td>\n      <td>M3B</td>\n    </tr>\n    <tr>\n      <th>8</th>\n      <td>East York</td>\n      <td>Woodbine Gardens, Parkview Hill</td>\n      <td>M4B</td>\n    </tr>\n    <tr>\n      <th>9</th>\n      <td>Downtown Toronto</td>\n      <td>Ryerson, Garden District</td>\n      <td>M5B</td>\n    </tr>\n    <tr>\n      <th>10</th>\n      <td>North York</td>\n      <td>Glencairn</td>\n      <td>M6B</td>\n    </tr>\n    <tr>\n      <th>11</th>\n      <td>Etobicoke</td>\n      <td>Cloverdale, Islington, Martin Grove, Princess ...</td>\n      <td>M9B</td>\n    </tr>\n    <tr>\n      <th>12</th>\n      <td>Scarborough</td>\n      <td>Highland Creek, Rouge Hill, Port Union</td>\n      <td>M1C</td>\n    </tr>\n    <tr>\n      <th>13</th>\n      <td>North York</td>\n      <td>Flemingdon Park, Don Mills South</td>\n      <td>M3C</td>\n    </tr>\n    <tr>\n      <th>14</th>\n      <td>East York</td>\n      <td>Woodbine Heights</td>\n      <td>M4C</td>\n    </tr>\n    <tr>\n      <th>15</th>\n      <td>Downtown Toronto</td>\n      <td>St. James Town</td>\n      <td>M5C</td>\n    </tr>\n    <tr>\n      <th>16</th>\n      <td>York</td>\n      <td>Humewood-Cedarvale</td>\n      <td>M6C</td>\n    </tr>\n    <tr>\n      <th>17</th>\n      <td>Etobicoke</td>\n      <td>Bloordale Gardens, Eringate, Markland Wood, Ol...</td>\n      <td>M9C</td>\n    </tr>\n    <tr>\n      <th>18</th>\n      <td>Scarborough</td>\n      <td>Guildwood]], Morningside, West Hill</td>\n      <td>M1E</td>\n    </tr>\n    <tr>\n      <th>19</th>\n      <td>East Toronto</td>\n      <td>The Beaches</td>\n      <td>M4E</td>\n    </tr>\n    <tr>\n      <th>20</th>\n      <td>Downtown Toronto</td>\n      <td>Berczy Park</td>\n      <td>M5E</td>\n    </tr>\n    <tr>\n      <th>21</th>\n      <td>York</td>\n      <td>Caledonia-Fairbanks</td>\n      <td>M6E</td>\n    </tr>\n    <tr>\n      <th>22</th>\n      <td>Scarborough</td>\n      <td>Woburn</td>\n      <td>M1G</td>\n    </tr>\n    <tr>\n      <th>23</th>\n      <td>East York</td>\n      <td>Leaside</td>\n      <td>M4G</td>\n    </tr>\n    <tr>\n      <th>24</th>\n      <td>Downtown Toronto</td>\n      <td>Central Bay Street</td>\n      <td>M5G</td>\n    </tr>\n    <tr>\n      <th>25</th>\n      <td>Downtown Toronto</td>\n      <td>Christie</td>\n      <td>M6G</td>\n    </tr>\n    <tr>\n      <th>26</th>\n      <td>Scarborough</td>\n      <td>Cedarbrae</td>\n      <td>M1H</td>\n    </tr>\n    <tr>\n      <th>27</th>\n      <td>North York</td>\n      <td>Hillcrest Village</td>\n      <td>M2H</td>\n    </tr>\n    <tr>\n      <th>28</th>\n      <td>North York</td>\n      <td>Bathurst Manor, Downsview North, Wilson Heights</td>\n      <td>M3H</td>\n    </tr>\n    <tr>\n      <th>29</th>\n      <td>East York</td>\n      <td>Thorncliffe Park</td>\n      <td>M4H</td>\n    </tr>\n    <tr>\n      <th>...</th>\n      <td>...</td>\n      <td>...</td>\n      <td>...</td>\n    </tr>\n    <tr>\n      <th>73</th>\n      <td>Central Toronto</td>\n      <td>North Toronto West</td>\n      <td>M4R</td>\n    </tr>\n    <tr>\n      <th>74</th>\n      <td>Central Toronto</td>\n      <td>The Annex, North Midtown, Yorkville</td>\n      <td>M5R</td>\n    </tr>\n    <tr>\n      <th>75</th>\n      <td>West Toronto</td>\n      <td>Parkdale, Roncesvalles</td>\n      <td>M6R</td>\n    </tr>\n    <tr>\n      <th>76</th>\n      <td>Mississauga</td>\n      <td>Canada Post Gateway Processing Centre</td>\n      <td>M7R</td>\n    </tr>\n    <tr>\n      <th>77</th>\n      <td>Etobicoke</td>\n      <td>Kingsview Village, Martin Grove Gardens, Richv...</td>\n      <td>M9R</td>\n    </tr>\n    <tr>\n      <th>78</th>\n      <td>Scarborough</td>\n      <td>Agincourt</td>\n      <td>M1S</td>\n    </tr>\n    <tr>\n      <th>79</th>\n      <td>Central Toronto</td>\n      <td>Davisville</td>\n      <td>M4S</td>\n    </tr>\n    <tr>\n      <th>80</th>\n      <td>Downtown Toronto</td>\n      <td>Harbord, University of Toronto</td>\n      <td>M5S</td>\n    </tr>\n    <tr>\n      <th>81</th>\n      <td>West Toronto</td>\n      <td>Runnymede, Swansea</td>\n      <td>M6S</td>\n    </tr>\n    <tr>\n      <th>82</th>\n      <td>Scarborough</td>\n      <td>Clarks Corners, Sullivan, Tam O'Shanter</td>\n      <td>M1T</td>\n    </tr>\n    <tr>\n      <th>83</th>\n      <td>Central Toronto</td>\n      <td>Moore Park, Summerhill East</td>\n      <td>M4T</td>\n    </tr>\n    <tr>\n      <th>84</th>\n      <td>Downtown Toronto</td>\n      <td>Chinatown, Grange Park, Kensington Market</td>\n      <td>M5T</td>\n    </tr>\n    <tr>\n      <th>85</th>\n      <td>Scarborough</td>\n      <td>Agincourt North, L'Amoreaux East, Milliken, St...</td>\n      <td>M1V</td>\n    </tr>\n    <tr>\n      <th>86</th>\n      <td>Central Toronto</td>\n      <td>Deer Park, Forest Hill SE, Rathnelly, South Hi...</td>\n      <td>M4V</td>\n    </tr>\n    <tr>\n      <th>87</th>\n      <td>Downtown Toronto</td>\n      <td>CN Tower, Bathurst Quay, Island airport, Harbo...</td>\n      <td>M5V</td>\n    </tr>\n    <tr>\n      <th>88</th>\n      <td>Etobicoke</td>\n      <td>Humber Bay Shores, Mimico South, New Toronto</td>\n      <td>M8V</td>\n    </tr>\n    <tr>\n      <th>89</th>\n      <td>Etobicoke</td>\n      <td>Albion Gardens, Beaumond Heights, Humbergate, ...</td>\n      <td>M9V</td>\n    </tr>\n    <tr>\n      <th>90</th>\n      <td>Scarborough</td>\n      <td>L'Amoreaux West, Steeles West</td>\n      <td>M1W</td>\n    </tr>\n    <tr>\n      <th>91</th>\n      <td>Downtown Toronto</td>\n      <td>Rosedale</td>\n      <td>M4W</td>\n    </tr>\n    <tr>\n      <th>92</th>\n      <td>Downtown Toronto</td>\n      <td>Stn A PO Boxes 25 The Esplanade</td>\n      <td>M5W</td>\n    </tr>\n    <tr>\n      <th>93</th>\n      <td>Etobicoke</td>\n      <td>Alderwood, Long Branch</td>\n      <td>M8W</td>\n    </tr>\n    <tr>\n      <th>94</th>\n      <td>Etobicoke</td>\n      <td>Northwest</td>\n      <td>M9W</td>\n    </tr>\n    <tr>\n      <th>95</th>\n      <td>Scarborough</td>\n      <td>Upper Rouge</td>\n      <td>M1X</td>\n    </tr>\n    <tr>\n      <th>96</th>\n      <td>Downtown Toronto</td>\n      <td>Cabbagetown, St. James Town</td>\n      <td>M4X</td>\n    </tr>\n    <tr>\n      <th>97</th>\n      <td>Downtown Toronto</td>\n      <td>First Canadian Place, Underground city</td>\n      <td>M5X</td>\n    </tr>\n    <tr>\n      <th>98</th>\n      <td>Etobicoke</td>\n      <td>The Kingsway, Montgomery Road, Old Mill North</td>\n      <td>M8X</td>\n    </tr>\n    <tr>\n      <th>99</th>\n      <td>Downtown Toronto</td>\n      <td>Church and Wellesley</td>\n      <td>M4Y</td>\n    </tr>\n    <tr>\n      <th>100</th>\n      <td>East Toronto</td>\n      <td>Business reply mail Processing Centre969 Eastern</td>\n      <td>M7Y</td>\n    </tr>\n    <tr>\n      <th>101</th>\n      <td>Etobicoke</td>\n      <td>Humber Bay, King's Mill Park, Kingsway Park So...</td>\n      <td>M8Y</td>\n    </tr>\n    <tr>\n      <th>102</th>\n      <td>Etobicoke</td>\n      <td>Kingsway Park South West, Mimico NW, The Queen...</td>\n      <td>M8Z</td>\n    </tr>\n  </tbody>\n</table>\n<p>103 rows \u00d7 3 columns</p>\n</div>", 
                        "text/plain": "              Borough                                       Neighborhood  \\\n0          North York                                          Parkwoods   \n1          North York                                   Victoria Village   \n2    Downtown Toronto                          Harbourfront, Regent Park   \n3          North York                   Lawrence Heights, Lawrence Manor   \n4        Queen's Park                                       Queen's Park   \n5           Etobicoke                                   Islington Avenue   \n6         Scarborough                                     Rouge, Malvern   \n7          North York                                    Don Mills North   \n8           East York                    Woodbine Gardens, Parkview Hill   \n9    Downtown Toronto                           Ryerson, Garden District   \n10         North York                                          Glencairn   \n11          Etobicoke  Cloverdale, Islington, Martin Grove, Princess ...   \n12        Scarborough             Highland Creek, Rouge Hill, Port Union   \n13         North York                   Flemingdon Park, Don Mills South   \n14          East York                                   Woodbine Heights   \n15   Downtown Toronto                                     St. James Town   \n16               York                                 Humewood-Cedarvale   \n17          Etobicoke  Bloordale Gardens, Eringate, Markland Wood, Ol...   \n18        Scarborough                Guildwood]], Morningside, West Hill   \n19       East Toronto                                        The Beaches   \n20   Downtown Toronto                                        Berczy Park   \n21               York                                Caledonia-Fairbanks   \n22        Scarborough                                             Woburn   \n23          East York                                            Leaside   \n24   Downtown Toronto                                 Central Bay Street   \n25   Downtown Toronto                                           Christie   \n26        Scarborough                                          Cedarbrae   \n27         North York                                  Hillcrest Village   \n28         North York    Bathurst Manor, Downsview North, Wilson Heights   \n29          East York                                   Thorncliffe Park   \n..                ...                                                ...   \n73    Central Toronto                                 North Toronto West   \n74    Central Toronto                The Annex, North Midtown, Yorkville   \n75       West Toronto                             Parkdale, Roncesvalles   \n76        Mississauga              Canada Post Gateway Processing Centre   \n77          Etobicoke  Kingsview Village, Martin Grove Gardens, Richv...   \n78        Scarborough                                          Agincourt   \n79    Central Toronto                                         Davisville   \n80   Downtown Toronto                     Harbord, University of Toronto   \n81       West Toronto                                 Runnymede, Swansea   \n82        Scarborough            Clarks Corners, Sullivan, Tam O'Shanter   \n83    Central Toronto                        Moore Park, Summerhill East   \n84   Downtown Toronto          Chinatown, Grange Park, Kensington Market   \n85        Scarborough  Agincourt North, L'Amoreaux East, Milliken, St...   \n86    Central Toronto  Deer Park, Forest Hill SE, Rathnelly, South Hi...   \n87   Downtown Toronto  CN Tower, Bathurst Quay, Island airport, Harbo...   \n88          Etobicoke       Humber Bay Shores, Mimico South, New Toronto   \n89          Etobicoke  Albion Gardens, Beaumond Heights, Humbergate, ...   \n90        Scarborough                      L'Amoreaux West, Steeles West   \n91   Downtown Toronto                                           Rosedale   \n92   Downtown Toronto                    Stn A PO Boxes 25 The Esplanade   \n93          Etobicoke                             Alderwood, Long Branch   \n94          Etobicoke                                          Northwest   \n95        Scarborough                                        Upper Rouge   \n96   Downtown Toronto                        Cabbagetown, St. James Town   \n97   Downtown Toronto             First Canadian Place, Underground city   \n98          Etobicoke      The Kingsway, Montgomery Road, Old Mill North   \n99   Downtown Toronto                               Church and Wellesley   \n100      East Toronto   Business reply mail Processing Centre969 Eastern   \n101         Etobicoke  Humber Bay, King's Mill Park, Kingsway Park So...   \n102         Etobicoke  Kingsway Park South West, Mimico NW, The Queen...   \n\n    PostalCode  \n0          M3A  \n1          M4A  \n2          M5A  \n3          M6A  \n4          M7A  \n5          M9A  \n6          M1B  \n7          M3B  \n8          M4B  \n9          M5B  \n10         M6B  \n11         M9B  \n12         M1C  \n13         M3C  \n14         M4C  \n15         M5C  \n16         M6C  \n17         M9C  \n18         M1E  \n19         M4E  \n20         M5E  \n21         M6E  \n22         M1G  \n23         M4G  \n24         M5G  \n25         M6G  \n26         M1H  \n27         M2H  \n28         M3H  \n29         M4H  \n..         ...  \n73         M4R  \n74         M5R  \n75         M6R  \n76         M7R  \n77         M9R  \n78         M1S  \n79         M4S  \n80         M5S  \n81         M6S  \n82         M1T  \n83         M4T  \n84         M5T  \n85         M1V  \n86         M4V  \n87         M5V  \n88         M8V  \n89         M9V  \n90         M1W  \n91         M4W  \n92         M5W  \n93         M8W  \n94         M9W  \n95         M1X  \n96         M4X  \n97         M5X  \n98         M8X  \n99         M4Y  \n100        M7Y  \n101        M8Y  \n102        M8Z  \n\n[103 rows x 3 columns]"
                    }, 
                    "output_type": "execute_result"
                }
            ]
        }, 
        {
            "cell_type": "code", 
            "execution_count": 24, 
            "source": "toronto_df.to_csv('Toronto_neighborhood.csv')", 
            "metadata": {}, 
            "outputs": []
        }, 
        {
            "cell_type": "code", 
            "execution_count": 25, 
            "source": "toronto_df.shape", 
            "metadata": {}, 
            "outputs": [
                {
                    "execution_count": 25, 
                    "metadata": {}, 
                    "data": {
                        "text/plain": "(103, 3)"
                    }, 
                    "output_type": "execute_result"
                }
            ]
        }, 
        {
            "cell_type": "code", 
            "execution_count": null, 
            "source": "", 
            "metadata": {}, 
            "outputs": []
        }
    ], 
    "nbformat_minor": 1, 
    "nbformat": 4, 
    "metadata": {
        "kernelspec": {
            "language": "python", 
            "display_name": "Python 3.5", 
            "name": "python3"
        }, 
        "language_info": {
            "file_extension": ".py", 
            "version": "3.5.5", 
            "mimetype": "text/x-python", 
            "nbconvert_exporter": "python", 
            "name": "python", 
            "pygments_lexer": "ipython3", 
            "codemirror_mode": {
                "version": 3, 
                "name": "ipython"
            }
        }
    }
}