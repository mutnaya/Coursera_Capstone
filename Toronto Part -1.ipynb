{
    "cells": [
        {
            "cell_type": "markdown", 
            "source": "# Import Libraries", 
            "metadata": {}
        }, 
        {
            "cell_type": "code", 
            "execution_count": 2, 
            "source": "import requests\nimport numpy as np\nimport pandas as pd\nimport json\n\nfrom geopy.geocoders import Nominatim\n\nfrom pandas.io.json import json_normalize\n\nimport matplotlib.cm as cm\nimport matplotlib.colors as colors\n\nfrom sklearn.cluster import KMeans\n\nimport folium", 
            "metadata": {}, 
            "outputs": []
        }, 
        {
            "cell_type": "markdown", 
            "source": "# Scrap data From Wikipedia Page\n\nhttps://en.wikipedia.org/wiki/List_of_postal_codes_of_Canada:_M", 
            "metadata": {}
        }, 
        {
            "cell_type": "code", 
            "execution_count": 3, 
            "source": "from bs4 import BeautifulSoup", 
            "metadata": {}, 
            "outputs": []
        }, 
        {
            "cell_type": "code", 
            "execution_count": 4, 
            "source": "page = requests.get('https://en.wikipedia.org/wiki/List_of_postal_codes_of_Canada:_M').text\nsoup = BeautifulSoup(page, 'lxml')", 
            "metadata": {}, 
            "outputs": []
        }, 
        {
            "cell_type": "code", 
            "execution_count": 9, 
            "source": "dict_toronto = {'PostalCode':[],\n                'Borough':[],\n               'Neighborhood':[]}\n\ntbody = soup.find('tbody')\nfor tr in tbody.find_all('tr')[1:]:\n    td = tr.find_all('td')\n    if td[2].a:\n        if td[1].a:\n            dict_toronto['PostalCode'].append(td[0].text)\n            dict_toronto['Borough'].append(td[1].a.text)\n            dict_toronto['Neighborhood'].append(td[2].a.text)\n        else:\n            dict_toronto['PostalCode'].append(td[0].text)\n            dict_toronto['Borough'].append(td[1].text)\n            dict_toronto['Neighborhood'].append(td[2].a.text)\n        ", 
            "metadata": {}, 
            "outputs": []
        }, 
        {
            "cell_type": "code", 
            "execution_count": 10, 
            "source": "toronto_df = pd.DataFrame.from_dict(dict_toronto)\ntoronto_df", 
            "metadata": {}, 
            "outputs": [
                {
                    "execution_count": 10, 
                    "metadata": {}, 
                    "data": {
                        "text/html": "<div>\n<style scoped>\n    .dataframe tbody tr th:only-of-type {\n        vertical-align: middle;\n    }\n\n    .dataframe tbody tr th {\n        vertical-align: top;\n    }\n\n    .dataframe thead th {\n        text-align: right;\n    }\n</style>\n<table border=\"1\" class=\"dataframe\">\n  <thead>\n    <tr style=\"text-align: right;\">\n      <th></th>\n      <th>Borough</th>\n      <th>Neighborhood</th>\n      <th>PostalCode</th>\n    </tr>\n  </thead>\n  <tbody>\n    <tr>\n      <th>0</th>\n      <td>North York</td>\n      <td>Parkwoods</td>\n      <td>M3A</td>\n    </tr>\n    <tr>\n      <th>1</th>\n      <td>North York</td>\n      <td>Victoria Village</td>\n      <td>M4A</td>\n    </tr>\n    <tr>\n      <th>2</th>\n      <td>Downtown Toronto</td>\n      <td>Harbourfront</td>\n      <td>M5A</td>\n    </tr>\n    <tr>\n      <th>3</th>\n      <td>Downtown Toronto</td>\n      <td>Regent Park</td>\n      <td>M5A</td>\n    </tr>\n    <tr>\n      <th>4</th>\n      <td>North York</td>\n      <td>Lawrence Heights</td>\n      <td>M6A</td>\n    </tr>\n    <tr>\n      <th>5</th>\n      <td>North York</td>\n      <td>Lawrence Manor</td>\n      <td>M6A</td>\n    </tr>\n    <tr>\n      <th>6</th>\n      <td>Etobicoke</td>\n      <td>Islington Avenue</td>\n      <td>M9A</td>\n    </tr>\n    <tr>\n      <th>7</th>\n      <td>Scarborough</td>\n      <td>Rouge</td>\n      <td>M1B</td>\n    </tr>\n    <tr>\n      <th>8</th>\n      <td>Scarborough</td>\n      <td>Malvern</td>\n      <td>M1B</td>\n    </tr>\n    <tr>\n      <th>9</th>\n      <td>East York</td>\n      <td>Woodbine Gardens</td>\n      <td>M4B</td>\n    </tr>\n    <tr>\n      <th>10</th>\n      <td>East York</td>\n      <td>Parkview Hill</td>\n      <td>M4B</td>\n    </tr>\n    <tr>\n      <th>11</th>\n      <td>Downtown Toronto</td>\n      <td>Ryerson</td>\n      <td>M5B</td>\n    </tr>\n    <tr>\n      <th>12</th>\n      <td>North York</td>\n      <td>Glencairn</td>\n      <td>M6B</td>\n    </tr>\n    <tr>\n      <th>13</th>\n      <td>Etobicoke</td>\n      <td>Islington</td>\n      <td>M9B</td>\n    </tr>\n    <tr>\n      <th>14</th>\n      <td>Etobicoke</td>\n      <td>Princess Gardens</td>\n      <td>M9B</td>\n    </tr>\n    <tr>\n      <th>15</th>\n      <td>Etobicoke</td>\n      <td>West Deane Park</td>\n      <td>M9B</td>\n    </tr>\n    <tr>\n      <th>16</th>\n      <td>Scarborough</td>\n      <td>Highland Creek</td>\n      <td>M1C</td>\n    </tr>\n    <tr>\n      <th>17</th>\n      <td>Scarborough</td>\n      <td>Rouge Hill</td>\n      <td>M1C</td>\n    </tr>\n    <tr>\n      <th>18</th>\n      <td>Scarborough</td>\n      <td>Port Union</td>\n      <td>M1C</td>\n    </tr>\n    <tr>\n      <th>19</th>\n      <td>North York</td>\n      <td>Flemingdon Park</td>\n      <td>M3C</td>\n    </tr>\n    <tr>\n      <th>20</th>\n      <td>East York</td>\n      <td>Woodbine Heights</td>\n      <td>M4C</td>\n    </tr>\n    <tr>\n      <th>21</th>\n      <td>Downtown Toronto</td>\n      <td>St. James Town</td>\n      <td>M5C</td>\n    </tr>\n    <tr>\n      <th>22</th>\n      <td>York</td>\n      <td>Humewood-Cedarvale</td>\n      <td>M6C</td>\n    </tr>\n    <tr>\n      <th>23</th>\n      <td>Etobicoke</td>\n      <td>Markland Wood</td>\n      <td>M9C</td>\n    </tr>\n    <tr>\n      <th>24</th>\n      <td>Scarborough</td>\n      <td>Morningside</td>\n      <td>M1E</td>\n    </tr>\n    <tr>\n      <th>25</th>\n      <td>Scarborough</td>\n      <td>West Hill</td>\n      <td>M1E</td>\n    </tr>\n    <tr>\n      <th>26</th>\n      <td>East Toronto</td>\n      <td>The Beaches</td>\n      <td>M4E</td>\n    </tr>\n    <tr>\n      <th>27</th>\n      <td>Downtown Toronto</td>\n      <td>Berczy Park</td>\n      <td>M5E</td>\n    </tr>\n    <tr>\n      <th>28</th>\n      <td>Scarborough</td>\n      <td>Woburn</td>\n      <td>M1G</td>\n    </tr>\n    <tr>\n      <th>29</th>\n      <td>East York</td>\n      <td>Leaside</td>\n      <td>M4G</td>\n    </tr>\n    <tr>\n      <th>...</th>\n      <td>...</td>\n      <td>...</td>\n      <td>...</td>\n    </tr>\n    <tr>\n      <th>111</th>\n      <td>Etobicoke</td>\n      <td>New Toronto</td>\n      <td>M8V</td>\n    </tr>\n    <tr>\n      <th>112</th>\n      <td>Etobicoke</td>\n      <td>Beaumond Heights</td>\n      <td>M9V</td>\n    </tr>\n    <tr>\n      <th>113</th>\n      <td>Etobicoke</td>\n      <td>Humbergate</td>\n      <td>M9V</td>\n    </tr>\n    <tr>\n      <th>114</th>\n      <td>Etobicoke</td>\n      <td>Jamestown</td>\n      <td>M9V</td>\n    </tr>\n    <tr>\n      <th>115</th>\n      <td>Etobicoke</td>\n      <td>Mount Olive</td>\n      <td>M9V</td>\n    </tr>\n    <tr>\n      <th>116</th>\n      <td>Etobicoke</td>\n      <td>Silverstone</td>\n      <td>M9V</td>\n    </tr>\n    <tr>\n      <th>117</th>\n      <td>Etobicoke</td>\n      <td>South Steeles</td>\n      <td>M9V</td>\n    </tr>\n    <tr>\n      <th>118</th>\n      <td>Etobicoke</td>\n      <td>Thistletown</td>\n      <td>M9V</td>\n    </tr>\n    <tr>\n      <th>119</th>\n      <td>Scarborough</td>\n      <td>Steeles West</td>\n      <td>M1W</td>\n    </tr>\n    <tr>\n      <th>120</th>\n      <td>Downtown Toronto</td>\n      <td>Rosedale</td>\n      <td>M4W</td>\n    </tr>\n    <tr>\n      <th>121</th>\n      <td>Etobicoke</td>\n      <td>Alderwood</td>\n      <td>M8W</td>\n    </tr>\n    <tr>\n      <th>122</th>\n      <td>Etobicoke</td>\n      <td>Long Branch</td>\n      <td>M8W</td>\n    </tr>\n    <tr>\n      <th>123</th>\n      <td>Etobicoke</td>\n      <td>Northwest</td>\n      <td>M9W</td>\n    </tr>\n    <tr>\n      <th>124</th>\n      <td>Scarborough</td>\n      <td>Upper Rouge</td>\n      <td>M1X</td>\n    </tr>\n    <tr>\n      <th>125</th>\n      <td>Downtown Toronto</td>\n      <td>Cabbagetown</td>\n      <td>M4X</td>\n    </tr>\n    <tr>\n      <th>126</th>\n      <td>Downtown Toronto</td>\n      <td>St. James Town</td>\n      <td>M4X</td>\n    </tr>\n    <tr>\n      <th>127</th>\n      <td>Downtown Toronto</td>\n      <td>First Canadian Place</td>\n      <td>M5X</td>\n    </tr>\n    <tr>\n      <th>128</th>\n      <td>Downtown Toronto</td>\n      <td>Underground city</td>\n      <td>M5X</td>\n    </tr>\n    <tr>\n      <th>129</th>\n      <td>Etobicoke</td>\n      <td>The Kingsway</td>\n      <td>M8X</td>\n    </tr>\n    <tr>\n      <th>130</th>\n      <td>Downtown Toronto</td>\n      <td>Church and Wellesley</td>\n      <td>M4Y</td>\n    </tr>\n    <tr>\n      <th>131</th>\n      <td>Etobicoke</td>\n      <td>Humber Bay</td>\n      <td>M8Y</td>\n    </tr>\n    <tr>\n      <th>132</th>\n      <td>Etobicoke</td>\n      <td>King's Mill Park</td>\n      <td>M8Y</td>\n    </tr>\n    <tr>\n      <th>133</th>\n      <td>Etobicoke</td>\n      <td>Mimico NE</td>\n      <td>M8Y</td>\n    </tr>\n    <tr>\n      <th>134</th>\n      <td>Etobicoke</td>\n      <td>Old Mill South</td>\n      <td>M8Y</td>\n    </tr>\n    <tr>\n      <th>135</th>\n      <td>Etobicoke</td>\n      <td>The Queensway East</td>\n      <td>M8Y</td>\n    </tr>\n    <tr>\n      <th>136</th>\n      <td>Etobicoke</td>\n      <td>Royal York South East</td>\n      <td>M8Y</td>\n    </tr>\n    <tr>\n      <th>137</th>\n      <td>Etobicoke</td>\n      <td>Sunnylea</td>\n      <td>M8Y</td>\n    </tr>\n    <tr>\n      <th>138</th>\n      <td>Etobicoke</td>\n      <td>Mimico NW</td>\n      <td>M8Z</td>\n    </tr>\n    <tr>\n      <th>139</th>\n      <td>Etobicoke</td>\n      <td>The Queensway West</td>\n      <td>M8Z</td>\n    </tr>\n    <tr>\n      <th>140</th>\n      <td>Etobicoke</td>\n      <td>South of Bloor</td>\n      <td>M8Z</td>\n    </tr>\n  </tbody>\n</table>\n<p>141 rows \u00d7 3 columns</p>\n</div>", 
                        "text/plain": "              Borough           Neighborhood PostalCode\n0          North York              Parkwoods        M3A\n1          North York       Victoria Village        M4A\n2    Downtown Toronto           Harbourfront        M5A\n3    Downtown Toronto            Regent Park        M5A\n4          North York       Lawrence Heights        M6A\n5          North York         Lawrence Manor        M6A\n6           Etobicoke       Islington Avenue        M9A\n7         Scarborough                  Rouge        M1B\n8         Scarborough                Malvern        M1B\n9           East York       Woodbine Gardens        M4B\n10          East York          Parkview Hill        M4B\n11   Downtown Toronto                Ryerson        M5B\n12         North York              Glencairn        M6B\n13          Etobicoke              Islington        M9B\n14          Etobicoke       Princess Gardens        M9B\n15          Etobicoke        West Deane Park        M9B\n16        Scarborough         Highland Creek        M1C\n17        Scarborough             Rouge Hill        M1C\n18        Scarborough             Port Union        M1C\n19         North York        Flemingdon Park        M3C\n20          East York       Woodbine Heights        M4C\n21   Downtown Toronto         St. James Town        M5C\n22               York     Humewood-Cedarvale        M6C\n23          Etobicoke          Markland Wood        M9C\n24        Scarborough            Morningside        M1E\n25        Scarborough              West Hill        M1E\n26       East Toronto            The Beaches        M4E\n27   Downtown Toronto            Berczy Park        M5E\n28        Scarborough                 Woburn        M1G\n29          East York                Leaside        M4G\n..                ...                    ...        ...\n111         Etobicoke            New Toronto        M8V\n112         Etobicoke       Beaumond Heights        M9V\n113         Etobicoke             Humbergate        M9V\n114         Etobicoke              Jamestown        M9V\n115         Etobicoke            Mount Olive        M9V\n116         Etobicoke            Silverstone        M9V\n117         Etobicoke          South Steeles        M9V\n118         Etobicoke            Thistletown        M9V\n119       Scarborough           Steeles West        M1W\n120  Downtown Toronto               Rosedale        M4W\n121         Etobicoke              Alderwood        M8W\n122         Etobicoke            Long Branch        M8W\n123         Etobicoke              Northwest        M9W\n124       Scarborough            Upper Rouge        M1X\n125  Downtown Toronto            Cabbagetown        M4X\n126  Downtown Toronto         St. James Town        M4X\n127  Downtown Toronto   First Canadian Place        M5X\n128  Downtown Toronto       Underground city        M5X\n129         Etobicoke           The Kingsway        M8X\n130  Downtown Toronto   Church and Wellesley        M4Y\n131         Etobicoke             Humber Bay        M8Y\n132         Etobicoke       King's Mill Park        M8Y\n133         Etobicoke              Mimico NE        M8Y\n134         Etobicoke         Old Mill South        M8Y\n135         Etobicoke     The Queensway East        M8Y\n136         Etobicoke  Royal York South East        M8Y\n137         Etobicoke               Sunnylea        M8Y\n138         Etobicoke              Mimico NW        M8Z\n139         Etobicoke     The Queensway West        M8Z\n140         Etobicoke         South of Bloor        M8Z\n\n[141 rows x 3 columns]"
                    }, 
                    "output_type": "execute_result"
                }
            ]
        }, 
        {
            "cell_type": "code", 
            "execution_count": null, 
            "source": "", 
            "metadata": {}, 
            "outputs": []
        }
    ], 
    "nbformat_minor": 1, 
    "nbformat": 4, 
    "metadata": {
        "kernelspec": {
            "language": "python", 
            "display_name": "Python 3.5", 
            "name": "python3"
        }, 
        "language_info": {
            "file_extension": ".py", 
            "version": "3.5.5", 
            "mimetype": "text/x-python", 
            "nbconvert_exporter": "python", 
            "name": "python", 
            "pygments_lexer": "ipython3", 
            "codemirror_mode": {
                "version": 3, 
                "name": "ipython"
            }
        }
    }
}